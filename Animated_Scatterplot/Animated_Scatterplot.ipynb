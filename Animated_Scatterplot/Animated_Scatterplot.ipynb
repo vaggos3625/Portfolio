{
 "cells": [
  {
   "cell_type": "markdown",
   "id": "907002ad",
   "metadata": {},
   "source": [
    "# Animated Scatterplot\n",
    "\n",
    "**Through this process an animated scatterplot is being formed to show the life expectancy and the fertility rate for each country vased on their population from 1800 till 2015**"
   ]
  },
  {
   "cell_type": "markdown",
   "id": "8ba9fcdc",
   "metadata": {},
   "source": [
    "## Starting witht the basics"
   ]
  },
  {
   "cell_type": "code",
   "execution_count": 1,
   "id": "11da0bb7",
   "metadata": {},
   "outputs": [],
   "source": [
    "import pandas as pd\n",
    "import matplotlib.pyplot as plt\n",
    "import numpy as np"
   ]
  },
  {
   "cell_type": "markdown",
   "id": "4f6a6953",
   "metadata": {},
   "source": [
    "## Importing the necessary files\n",
    "\n",
    "Below there are files, which show the life expectancy and the fertility rate for each country in the world, according to their population each year during 1800 and 2015. Unfortunately, as there is a problem for accurate data in odler times, there is only collection per 10 years between 1800 and 1950."
   ]
  },
  {
   "cell_type": "code",
   "execution_count": 6,
   "id": "e402b4aa",
   "metadata": {},
   "outputs": [],
   "source": [
    "life = pd.read_excel('gapminder_lifeexpectancy.xlsx', index_col=0)\n",
    "fert = pd.read_csv('gapminder_total_fertility.csv', index_col=0)\n",
    "pop = pd.read_excel('gapminder_population.xlsx')\n",
    "continents = pd.read_csv('continents.csv', sep=';')"
   ]
  },
  {
   "cell_type": "markdown",
   "id": "00d9fe8e",
   "metadata": {},
   "source": [
    "## Observing the data (a bit)\n",
    "There is an obvious difference between populaiton and life expectancy and fertility rate fiels. This occurs as for some countries we cannot have enough data for the above."
   ]
  },
  {
   "cell_type": "code",
   "execution_count": 28,
   "id": "c9f5fdcf",
   "metadata": {},
   "outputs": [
    {
     "name": "stdout",
     "output_type": "stream",
     "text": [
      "(56420, 3)\n",
      "(56160, 3)\n",
      "(22275, 3)\n",
      "(194, 3)\n"
     ]
    }
   ],
   "source": [
    "print(life.shape)\n",
    "print(fert.shape)\n",
    "print(pop.shape)\n",
    "print(continents.shape)"
   ]
  },
  {
   "cell_type": "code",
   "execution_count": 33,
   "id": "7daf8822",
   "metadata": {},
   "outputs": [
    {
     "name": "stdout",
     "output_type": "stream",
     "text": [
      "[56420, 56420, 56420]\n",
      "[56160, 56160, 56160]\n"
     ]
    }
   ],
   "source": [
    "print(life.isna().count().to_list())\n",
    "print(fert.isna().count().to_list())"
   ]
  },
  {
   "cell_type": "markdown",
   "id": "3e60e074",
   "metadata": {},
   "source": [
    "# Manipulating and combining the data\n",
    "\n",
    "Next step needed to be done is to change the data in a way to have a ' common denominator ' to compare them. That can be accomplished with making the country column as an index, as the country column is the same in each file"
   ]
  },
  {
   "cell_type": "code",
   "execution_count": 8,
   "id": "d9a8b668",
   "metadata": {},
   "outputs": [],
   "source": [
    "fert.columns = fert.columns.astype(int)"
   ]
  },
  {
   "cell_type": "code",
   "execution_count": 9,
   "id": "7520fb23",
   "metadata": {},
   "outputs": [],
   "source": [
    "fert.index.name = 'country'"
   ]
  },
  {
   "cell_type": "code",
   "execution_count": 10,
   "id": "56279fef",
   "metadata": {},
   "outputs": [],
   "source": [
    "fert = fert.reset_index()"
   ]
  },
  {
   "cell_type": "markdown",
   "id": "4866d671",
   "metadata": {},
   "source": [
    "---\n",
    "Melt function gives us the ability to sort our data according to a certain variable. As you can see here, fertility rate can be sorted based on the year of each coutnry. That process and reseting the index are being repeated below for the rest of the files we use"
   ]
  },
  {
   "cell_type": "code",
   "execution_count": 11,
   "id": "f2c23670",
   "metadata": {},
   "outputs": [],
   "source": [
    "fert = fert.melt(id_vars='country', var_name='year', value_name='fertility_rate')"
   ]
  },
  {
   "cell_type": "code",
   "execution_count": 12,
   "id": "8981355e",
   "metadata": {},
   "outputs": [],
   "source": [
    "continents = continents.reset_index()"
   ]
  },
  {
   "cell_type": "code",
   "execution_count": 13,
   "id": "f1167043",
   "metadata": {},
   "outputs": [],
   "source": [
    "life = life.reset_index()"
   ]
  },
  {
   "cell_type": "code",
   "execution_count": 14,
   "id": "52d46ce1",
   "metadata": {},
   "outputs": [],
   "source": [
    "life.rename(columns={'Life expectancy' : 'country'}, inplace=True)"
   ]
  },
  {
   "cell_type": "code",
   "execution_count": 15,
   "id": "2af7e5c2",
   "metadata": {},
   "outputs": [],
   "source": [
    "life = life.melt(id_vars='country', var_name='year', value_name='life_expectancy_rate')"
   ]
  },
  {
   "cell_type": "code",
   "execution_count": 16,
   "id": "e4783c37",
   "metadata": {},
   "outputs": [],
   "source": [
    "pop.rename(columns={'Total population': 'country'}, inplace=True)"
   ]
  },
  {
   "cell_type": "code",
   "execution_count": 17,
   "id": "12bdcd3a",
   "metadata": {},
   "outputs": [],
   "source": [
    "pop = pop.melt(id_vars='country', var_name='year', value_name='population')"
   ]
  },
  {
   "cell_type": "markdown",
   "id": "3a790545",
   "metadata": {},
   "source": [
    "--- \n",
    "# Merging the files\n"
   ]
  },
  {
   "cell_type": "code",
   "execution_count": 18,
   "id": "0716ca7f",
   "metadata": {},
   "outputs": [],
   "source": [
    "df = fert.merge(pop)"
   ]
  },
  {
   "cell_type": "code",
   "execution_count": 19,
   "id": "ae23c08a",
   "metadata": {},
   "outputs": [],
   "source": [
    "df = df.merge(life)"
   ]
  },
  {
   "cell_type": "code",
   "execution_count": 20,
   "id": "24ed8df1",
   "metadata": {},
   "outputs": [],
   "source": [
    "df = df.merge(continents)"
   ]
  },
  {
   "cell_type": "markdown",
   "id": "19976166",
   "metadata": {},
   "source": [
    "# Scatterplot \n",
    "The following step is to form a scatterplot for each year. The size of the circle of each country is determined by its population and its colour and its shape by the continent the belong to"
   ]
  },
  {
   "cell_type": "code",
   "execution_count": 42,
   "id": "9fd323ac",
   "metadata": {},
   "outputs": [
    {
     "data": {
      "image/png": "[encoded data removed]",
      "text/plain": [
       "<Figure size 640x480 with 1 Axes>"
      ]
     },
     "metadata": {},
     "output_type": "display_data"
    }
   ],
   "source": [
    "import seaborn as sns\n",
    "import matplotlib.pyplot as plt\n",
    "\n",
    "df_subset = df.loc[df['year'] == 2000]\n",
    "sns.scatterplot(x='life_expectancy_rate', y='fertility_rate', size='population',hue='continent', style='continent',\n",
    "            data=df_subset, alpha=0.6);\n",
    "plt.legend(loc=2, bbox_to_anchor=(1,1));"
   ]
  },
  {
   "cell_type": "code",
   "execution_count": 27,
   "id": "299923b4",
   "metadata": {},
   "outputs": [
    {
     "data": {
      "text/plain": [
       "<Figure size 640x480 with 0 Axes>"
      ]
     },
     "metadata": {},
     "output_type": "display_data"
    }
   ],
   "source": [
    "for year in df['year'].unique():\n",
    "    df_subset = df.loc[df['year'] == year]\n",
    "    sns.scatterplot(x='life_expectancy_rate', y='fertility_rate', size='population', hue='continent', style = 'continent',\n",
    "            data=df_subset, alpha=0.6);\n",
    "    plt.axis((\n",
    "        [df['life_expectancy_rate'].min(), df['life_expectancy_rate'].max(),\n",
    "        df['fertility_rate'].min(), df['fertility_rate'].max()]\n",
    "              ))\n",
    "    lgd = plt.legend(loc=2, bbox_to_anchor=(1, 1));\n",
    "    plt.savefig(f'lifeexp_{year}.png', bbox_extra_artists=(lgd,), bbox_inches='tight')\n",
    "    plt.clf();"
   ]
  },
  {
   "cell_type": "markdown",
   "id": "2ae9f721",
   "metadata": {},
   "source": [
    "# Creating the animated scatterplot"
   ]
  },
  {
   "cell_type": "code",
   "execution_count": 40,
   "id": "640589aa",
   "metadata": {},
   "outputs": [
    {
     "name": "stderr",
     "output_type": "stream",
     "text": [
      "C:\\Users\\vaggo\\AppData\\Local\\Temp\\ipykernel_11420\\2366720263.py:7: DeprecationWarning: Starting with ImageIO v3 the behavior of this function will switch to that of iio.v3.imread. To keep the current behavior (and make this warning disappear) use `import imageio.v2 as imageio` or call `imageio.v2.imread` directly.\n",
      "  images.append(imageio.imread(filename))\n"
     ]
    }
   ],
   "source": [
    "import imageio\n",
    "\n",
    "images = []\n",
    "\n",
    "for i in range(1950,2015):\n",
    "    filename = f'lifeexp_{i}.png'.format(i)\n",
    "    images.append(imageio.imread(filename))\n",
    "\n",
    "imageio.mimsave('output.gif', images, duration=15)"
   ]
  },
  {
   "cell_type": "markdown",
   "id": "6c49343c",
   "metadata": {},
   "source": [
    "# Application of the project\n",
    "\n",
    "Based on the results given, we can extend the project by adding factors. For example, if we take into account any disease or ilness being the most prevalent each year affecting a person's pregnancy, the way of its transmition and so on, or enviromental factors affecting drastically the life, there can be observed the relations of them through this long time."
   ]
  },
  {
   "cell_type": "code",
   "execution_count": null,
   "id": "43c2a0c9",
   "metadata": {},
   "outputs": [],
   "source": []
  }
 ],
 "metadata": {
  "kernelspec": {
   "display_name": "Python 3 (ipykernel)",
   "language": "python",
   "name": "python3"
  },
  "language_info": {
   "codemirror_mode": {
    "name": "ipython",
    "version": 3
   },
   "file_extension": ".py",
   "mimetype": "text/x-python",
   "name": "python",
   "nbconvert_exporter": "python",
   "pygments_lexer": "ipython3",
   "version": "3.10.9"
  }
 },
 "nbformat": 4,
 "nbformat_minor": 5
}
